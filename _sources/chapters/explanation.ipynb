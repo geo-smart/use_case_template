{
 "cells": [
  {
   "attachments": {},
   "cell_type": "markdown",
   "metadata": {
    "tags": []
   },
   "source": [
    "# Creating Use Cases\n",
    "\n",
    "### Motivation (Science or Utility)\n",
    "\n",
    "Explain the science motivation, data challenge and any existing attempts. Explain why you need ML to solve the problem as opposed to a conventional approach.\n",
    "\n",
    "### Machine Learning Methods and Tools\n",
    "\n",
    "Explain the method and why you think it's suitable for your use case. Explain the choice of tools/packages/data and the reason for use.\n",
    "\n",
    "### Data Preparation\n",
    "\n",
    "Data description include source, size, type, attributes, modality, etc. Data retrieval from community data centers, personal cloud storage, or published datasets. Feature extraction and engineering.\n",
    "\n",
    "### Model Development and Paramter Tuning\n",
    "\n",
    "Explain the effects of parameter tuning and how it was performed. If you used a tool to perform automatic tuning , explaing that as well. If it is the case, explain model under or over fitting and the consequences.\n",
    "\n",
    "### Model Training\n",
    "\n",
    "Explain how you split the data into training, testing and validation sets. Explore feature importance. Save the model.\n",
    "\n",
    "### Performance Evaluation\n",
    "\n",
    "Testing of the model on independent datasets.\n",
    "\n",
    "### Workflow Management\n",
    "\n",
    "If you seek to make the model run in production or achieve higher productivity and scalability, use GeoWeaver or other tools.\n",
    "\n",
    "### Reproducibility\n",
    "\n",
    "How to get credit for the work. Steps for getting a DOI. Discuss workflow adaptation to other datasets and science questions if suitable."
   ]
  }
 ],
 "metadata": {
  "kernelspec": {
   "display_name": "Python 3",
   "language": "python",
   "name": "python3"
  },
  "language_info": {
   "codemirror_mode": {
    "name": "ipython",
    "version": 3
   },
   "file_extension": ".py",
   "mimetype": "text/x-python",
   "name": "python",
   "nbconvert_exporter": "python",
   "pygments_lexer": "ipython3",
   "version": "3.9.0 (tags/v3.9.0:9cf6752, Oct  5 2020, 15:23:07) [MSC v.1927 32 bit (Intel)]"
  },
  "vscode": {
   "interpreter": {
    "hash": "c446eef832ec964573dc49f36fd16bdbed40cbfbefbf557bc2dc78d9e7968689"
   }
  }
 },
 "nbformat": 4,
 "nbformat_minor": 4
}
