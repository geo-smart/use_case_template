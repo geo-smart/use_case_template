{
 "cells": [
  {
   "cell_type": "markdown",
   "metadata": {},
   "source": [
    "# Trouble Shooting\n",
    "\n",
    "This page lists all the issues we have met when creating or following tutorials.\n",
    "\n",
    "If you have no issues with running the tutorials, you can skip this chapter. It is very likely that some platform specific issues happen now and then, we would love to collect those knowledge to help students in future to avoid wasting time on them. \n",
    "\n",
    "In this chapter, each section should address one techincal issue/concern. Please list your running environment in many details as possible. The following is an example:"
   ]
  },
  {
   "cell_type": "markdown",
   "metadata": {},
   "source": [
    "### Example Issue: Cannot run the `model.train` in Chapter 2. It omits error: \"xxxxx\".\n",
    "\n",
    "#### Environment\n",
    "Machine: Apple M1 laptop\n",
    "Python: 3.10\n",
    "Conda: 4.12\n",
    "Scikit-learn: 1.0.2\n",
    "...\n",
    "\n",
    "#### Code\n",
    "Line 1xxx in Chapter 2 (link)\n",
    "```\n",
    "clf = RandomForestClassifier(max_depth=2, random_state=0)\n",
    "clf.train(X, y)\n",
    "```\n",
    "\n",
    "#### Error\n",
    "raised Error xxxx\n",
    "\n",
    "#### Diagnose\n",
    "This might be caused by the incompatibility among xxxx\n",
    "\n",
    "#### Solution\n",
    "Please remove xxx, install xxx, and do xxx to try again. "
   ]
  }
 ],
 "metadata": {
  "language_info": {
   "name": "python"
  },
  "orig_nbformat": 4
 },
 "nbformat": 4,
 "nbformat_minor": 2
}
